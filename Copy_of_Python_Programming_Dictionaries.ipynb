{
  "nbformat": 4,
  "nbformat_minor": 0,
  "metadata": {
    "colab": {
      "name": "Copy of Python Programming: Dictionaries",
      "provenance": [],
      "collapsed_sections": [],
      "include_colab_link": true
    },
    "kernelspec": {
      "name": "python3",
      "display_name": "Python 3"
    }
  },
  "cells": [
    {
      "cell_type": "markdown",
      "metadata": {
        "id": "view-in-github",
        "colab_type": "text"
      },
      "source": [
        "<a href=\"https://colab.research.google.com/github/kevinkirotichkibet/MoringaSchoolDataSciencewk2/blob/main/Copy_of_Python_Programming_Dictionaries.ipynb\" target=\"_parent\"><img src=\"https://colab.research.google.com/assets/colab-badge.svg\" alt=\"Open In Colab\"/></a>"
      ]
    },
    {
      "cell_type": "markdown",
      "metadata": {
        "id": "eOm53BqKoYpl"
      },
      "source": [
        "<font color=\"green\">*To start working on this notebook, or any other notebook that we will use in this course, we will need to save our own copy of it. We can do this by clicking File > Save a Copy in Drive. We will then be able to make edits to our own copy of this notebook.*</font>\n",
        "\n",
        "---\n",
        "\n"
      ]
    },
    {
      "cell_type": "markdown",
      "metadata": {
        "id": "w2gnEI4V253l"
      },
      "source": [
        "# Python Programming: Dictionaries"
      ]
    },
    {
      "cell_type": "markdown",
      "metadata": {
        "id": "aEqAjTGi3E3b"
      },
      "source": [
        "## 1.0 Overview\n"
      ]
    },
    {
      "cell_type": "markdown",
      "metadata": {
        "id": "nJhH3J6y3dBD"
      },
      "source": [
        "A dictionary is a collection of key-value pairs, which are unordered, changeable and indexed. Curly brackets are used when writing a dictionary."
      ]
    },
    {
      "cell_type": "markdown",
      "metadata": {
        "id": "a90lkqj_3IZr"
      },
      "source": [
        "## 1.1 Creating a Dictionary"
      ]
    },
    {
      "cell_type": "code",
      "metadata": {
        "id": "8XQMBtIU7EoL",
        "colab": {
          "base_uri": "https://localhost:8080/"
        },
        "outputId": "465b2f0c-2276-40b1-ab5b-d15ace8afa89"
      },
      "source": [
        "# Example 1\n",
        "# We can create a dictionary by placing a sequence of elements within curly braces, \n",
        "# separated by commas as show in the following example.\n",
        "# Let's create a dictionary my_new_friend\n",
        "# \n",
        "my_new_friend = {\n",
        "    'name':'Femi', \n",
        "    'age': 24\n",
        "}\n",
        "\n",
        "\n",
        "# print \n",
        "print(my_new_friend)"
      ],
      "execution_count": null,
      "outputs": [
        {
          "output_type": "stream",
          "text": [
            "{'name': 'Femi', 'age': 24}\n"
          ],
          "name": "stdout"
        }
      ]
    },
    {
      "cell_type": "code",
      "metadata": {
        "id": "dg_8-2YO7EE3",
        "colab": {
          "base_uri": "https://localhost:8080/"
        },
        "outputId": "f1a3352c-d4ba-402b-9500-3d6c4e182cf5"
      },
      "source": [
        "# Example 2\n",
        "# Let's create another dictionary car with keys; brand, model and year\n",
        "# \n",
        "car =\t{\n",
        "  'brand': 'Toyota',\n",
        "  'model': 'Prado',\n",
        "  'year': 2007\n",
        "}\n",
        "\n",
        "# Then display it to see what the dictionary contains\n",
        "print(car)"
      ],
      "execution_count": null,
      "outputs": [
        {
          "output_type": "stream",
          "text": [
            "{'brand': 'Toyota', 'model': 'Prado', 'year': 2007}\n"
          ],
          "name": "stdout"
        }
      ]
    },
    {
      "cell_type": "code",
      "metadata": {
        "id": "KiVcQaXH7D0R",
        "colab": {
          "base_uri": "https://localhost:8080/"
        },
        "outputId": "01e1d6a0-4810-4e4c-99a5-2579bf5662f9"
      },
      "source": [
        "# Example 3\n",
        "# Let's create another dictionary\n",
        "#\n",
        "our_class = {\n",
        "    'Name': '7 East', \n",
        "    'Students': 27, \n",
        "    'Wing': 'East'\n",
        "}\n",
        "\n",
        "# printing out our_class\n",
        "print(our_class)"
      ],
      "execution_count": null,
      "outputs": [
        {
          "output_type": "stream",
          "text": [
            "{'Name': '7 East', 'Students': 27, 'Wing': 'East'}\n"
          ],
          "name": "stdout"
        }
      ]
    },
    {
      "cell_type": "markdown",
      "metadata": {
        "id": "49K6mQJg7yUh"
      },
      "source": [
        "### 1.1 Challenges"
      ]
    },
    {
      "cell_type": "code",
      "metadata": {
        "id": "v5e2By6E76hW",
        "colab": {
          "base_uri": "https://localhost:8080/"
        },
        "outputId": "49a02411-ab13-488b-8b03-fe556545b0d4"
      },
      "source": [
        "# Challenge 1\n",
        "# Create a dictionary family with keys i.e. father,\n",
        "# mother, son and daughter. You can add values of your family\n",
        "# to the key values\n",
        "# \n",
        "my_family ={'Father':'Emmanuel','Mother':'Salastine','Son':'Kevin','Daughter':'Cynthia'}\n",
        "print(my_family)"
      ],
      "execution_count": null,
      "outputs": [
        {
          "output_type": "stream",
          "text": [
            "{'Father': 'Emmanuel', 'Mother': 'Salastine', 'Son': 'Kevin', 'Daughter': 'Cynthia'}\n"
          ],
          "name": "stdout"
        }
      ]
    },
    {
      "cell_type": "code",
      "metadata": {
        "id": "tpBdeH5275i9",
        "colab": {
          "base_uri": "https://localhost:8080/"
        },
        "outputId": "0a9ee3b6-f44f-4edb-e557-74f7a85fb1ab"
      },
      "source": [
        "# Challenge 2\n",
        "# Create a dictionary name powers_dictionary using numbers 1-5 as keys \n",
        "# and their square power as values.  \n",
        "#\n",
        "powers_dictionary = {'1':1**2,'2':2**2,'3':3**2,'4':4**2,'5':5**2}\n",
        "print(powers_dictionary)"
      ],
      "execution_count": null,
      "outputs": [
        {
          "output_type": "stream",
          "text": [
            "{'1': 1, '2': 4, '3': 9, '4': 16, '5': 25}\n"
          ],
          "name": "stdout"
        }
      ]
    },
    {
      "cell_type": "code",
      "metadata": {
        "id": "yf9bGNKEKsFF",
        "colab": {
          "base_uri": "https://localhost:8080/"
        },
        "outputId": "c758ab5e-a9ce-4cc0-9332-f17edf7305ef"
      },
      "source": [
        "# Challenge 3\n",
        "# A caterer offers three different food packages; \n",
        "# bronze package: starch:rice stew:chicken curry vegetable:cabbages desert:melon\n",
        "# silver package: starch:rice and chappati  stew:beef curry vegetable:spinach desert:melon and bananas\n",
        "# gold package: starch:rice, chappati and mukimo stew: beef curry vegetable:spinach and managu desert: tart\n",
        "# Create a dictionary that stores the above information then preview it\n",
        "# Hint: You can store a dictionary within a dictionary \n",
        "# \n",
        "#define three packages into a dictionaty\n",
        "bronze_package = {'starch':'rice','stew':'chicken curry','vegetable':'spinach','desert':'melon'}\n",
        "silver_package = {'starch':'rice and chapati','stew':'beef curry','vegetable':'spinach','desert':'melons and bananas'}\n",
        "gold_package = {'starch':'rice, chapati and mukimo stew','stew':'beef curry','vegetable':'spinach and managu','desert':'tart'}\n",
        "\n",
        "#dictionary to hold other dictionaries\n",
        "full_package = {'Gold Package':gold_package,'Silver Package':silver_package,'Bronze Package':bronze_package}\n",
        "#displaying all the dictionaries \n",
        "print(full_package)"
      ],
      "execution_count": null,
      "outputs": [
        {
          "output_type": "stream",
          "text": [
            "{'Gold Package': {'starch': 'rice, chapati and mukimo stew', 'stew': 'beef curry', 'vegetable': 'spinach and managu', 'desert': 'tart'}, 'Silver Package': {'starch': 'rice and chapati', 'stew': 'beef curry', 'vegetable': 'spinach', 'desert': 'melons and bananas'}, 'Bronze Package': {'starch': 'rice', 'stew': 'chicken curry', 'vegetable': 'spinach', 'desert': 'melon'}}\n"
          ],
          "name": "stdout"
        }
      ]
    },
    {
      "cell_type": "markdown",
      "metadata": {
        "id": "UU3YIJYI3gwc"
      },
      "source": [
        "## 1.2 Adding Elements to a Dictionary"
      ]
    },
    {
      "cell_type": "code",
      "metadata": {
        "id": "t-dKvalj7F44",
        "colab": {
          "base_uri": "https://localhost:8080/"
        },
        "outputId": "fc31b2a3-8623-4f44-b41c-552cb30f40e2"
      },
      "source": [
        "# Example 1 \n",
        "# Adding a residence to my_new_friend dictionary that we had initially created\n",
        "# \n",
        "my_new_friend['residence'] = 'Nairobi'  \n",
        "\n",
        "# print out my_new_friend\n",
        "print(my_new_friend)"
      ],
      "execution_count": null,
      "outputs": [
        {
          "output_type": "stream",
          "text": [
            "{'name': 'Femi', 'age': 24, 'residence': 'Nairobi'}\n"
          ],
          "name": "stdout"
        }
      ]
    },
    {
      "cell_type": "code",
      "metadata": {
        "id": "FsS9Ns-b7FnE",
        "colab": {
          "base_uri": "https://localhost:8080/"
        },
        "outputId": "747b8bed-9baf-4956-a298-ac21b4a6d37c"
      },
      "source": [
        "# Example 2\n",
        "# We now add color to our car dictionary\n",
        "#\n",
        "car[\"color\"] = \"light gray\"\n",
        "\n",
        "# and print out our dictionary\n",
        "print(car)"
      ],
      "execution_count": null,
      "outputs": [
        {
          "output_type": "stream",
          "text": [
            "{'brand': 'Toyota', 'model': 'Prado', 'year': 2007, 'color': 'light gray'}\n"
          ],
          "name": "stdout"
        }
      ]
    },
    {
      "cell_type": "code",
      "metadata": {
        "id": "GFY3EYiO7FcZ",
        "colab": {
          "base_uri": "https://localhost:8080/"
        },
        "outputId": "b4b4c532-27ba-4dd9-c93e-9b5d4ec5fca6"
      },
      "source": [
        "# Example 3\n",
        "# Adding the school to the dictionary\n",
        "#\n",
        "our_class['School'] = \"Moringa School\";\n",
        "\n",
        "# printing out our class to see the updates\n",
        "print(our_class)"
      ],
      "execution_count": null,
      "outputs": [
        {
          "output_type": "stream",
          "text": [
            "{'Name': '7 East', 'Students': 27, 'Wing': 'East', 'School': 'Moringa School'}\n"
          ],
          "name": "stdout"
        }
      ]
    },
    {
      "cell_type": "markdown",
      "metadata": {
        "id": "7tzKw6l87-5h"
      },
      "source": [
        "### 1.2 Challenges"
      ]
    },
    {
      "cell_type": "code",
      "metadata": {
        "id": "jqbEx0BU8EL4",
        "colab": {
          "base_uri": "https://localhost:8080/"
        },
        "outputId": "89fc3196-d9b0-4034-d5ed-08a3c0edbe23"
      },
      "source": [
        "# Challenge 1: \n",
        "# Naivas Supermarket sells two products: bread and milk. \n",
        "# A loaf of bread weighs 400 grams. Each packet of milk is 0.5 litre. \n",
        "# Write a program that reads the number of bread \n",
        "# and the number of packets of milk in an order from the user. \n",
        "# Then your program should compute and display the total quantity of the order.\n",
        "# You should store the order in the dictionary and \n",
        "# prompt the user for another input.\n",
        "# \n",
        "#take user input \n",
        "bread_input = int(input(\"How many loaves of bread do you want? \"))\n",
        "milk_input = int(input(\"How many packets of milk do you want? \"))\n",
        "\n",
        "#computing total quatity of order\n",
        "bread_quantity = bread_input * 400\n",
        "milk_quantity = float(milk_input) * 0.5\n",
        "\n",
        "#displaying total cost\n",
        "print(\"You have ordered \"+str(bread_input)+\" loaves of bread  of \"+str(bread_quantity)+\" grams.\")\n",
        "print(\"You have ordered \"+str(milk_input)+\" packets of milk  of \"+str(milk_quantity)+\" litres.\")\n",
        "#creating order dictionary\n",
        "order = {'bread ordered':bread_input,\n",
        "         'milk ordered':milk_input,\n",
        "         'bread quantity':bread_quantity,            \n",
        "         'milk quantity':milk_quantity,                     \n",
        "}\n",
        "print(\"Your order is \"+str(order))\n"
      ],
      "execution_count": null,
      "outputs": [
        {
          "output_type": "stream",
          "text": [
            "How many loaves of bread do you want? 1\n",
            "How many packets of milk do you want? 2\n",
            "You have ordered 1 loaves of bread  of 400 grams.\n",
            "You have ordered 2 packets of milk  of 1.0 litres.\n",
            "Your order is {'bread ordered': 1, 'milk ordered': 2, 'bread quantity': 400, 'milk quantity': 1.0}\n"
          ],
          "name": "stdout"
        }
      ]
    },
    {
      "cell_type": "code",
      "metadata": {
        "id": "gQTOkgy2kgLT",
        "colab": {
          "base_uri": "https://localhost:8080/"
        },
        "outputId": "501cb86d-bd48-45c8-a0b1-ff7cab5d4562"
      },
      "source": [
        "# Challenge 2:\n",
        "# Two words are anagrams if they contain all of the same letters, \n",
        "# but in a different order. For example, “evil” and “live” \n",
        "# are anagrams because each contains one e, one i, one l, and one v. \n",
        "# Create a program that reads two strings from the user, determines\n",
        "# whether or not they are anagrams, stores and reports the result.\n",
        "# Use a dictionary to solve this problem.\n",
        "# \n",
        "print(\"Enter two string words to check for anagram\")\n",
        "#prompt user input\n",
        "\n",
        "first_string = input(\"Enter first string word: \")\n",
        "second_string = input(\"Enter second string word: \")\n",
        "#create dictionary to store the two strings\n",
        "dictionary = {'str1':str(first_string),'str2':str(second_string)}\n",
        "\n",
        "#creating a list to get data from the dictionary\n",
        "word_list= list(dictionary.values())\n",
        "\n",
        "#assigning data from the list to variables\n",
        "first_word_list, second_word_list = word_list\n",
        "\n",
        "#sorting words and checking if they are anagarms\n",
        "if(sorted(first_word_list) == sorted(second_word_list)):\n",
        "  print(\"The words are anagrams\")\n",
        "else:\n",
        "  print(\"The words are not anagrams\")\n"
      ],
      "execution_count": null,
      "outputs": [
        {
          "output_type": "stream",
          "text": [
            "Enter two string words to check for anagram\n",
            "Enter first string word: lead\n",
            "Enter second string word: deal\n",
            "The words are anagrams\n"
          ],
          "name": "stdout"
        }
      ]
    },
    {
      "cell_type": "code",
      "metadata": {
        "id": "3pcE1f56f87G",
        "colab": {
          "base_uri": "https://localhost:8080/"
        },
        "outputId": "575cfaf7-0719-483f-f81e-46e8fb970370"
      },
      "source": [
        "# Challenge 3:\n",
        "# Create a program that determines and displays \n",
        "# the number of characters in a string entered by the user. \n",
        "# For example, \"Hello, World!\" has 13  characters while \n",
        "# abc has only three character. \n",
        "# Use a dictionary to solve this problem.\n",
        "# retry last step\n",
        "sentence=input(\"Enter a sentence: \")\n",
        "dic={'word':str(sentence)}\n",
        "\n",
        "word_list=list(dic.values())\n",
        "list_sentence=word_list\n",
        "sum_of_words=sum(len(i) for i in str(list_sentence).split(\" \"))\n",
        "print(\"Total Number of Characters in this Sentence = \", sum_of_words)"
      ],
      "execution_count": null,
      "outputs": [
        {
          "output_type": "stream",
          "text": [
            "Enter a sentence: my name is cher\n",
            "Total Number of Characters in this Sentence =  16\n"
          ],
          "name": "stdout"
        }
      ]
    },
    {
      "cell_type": "markdown",
      "metadata": {
        "id": "hzmMe5TP32ra"
      },
      "source": [
        "## 1.3 Updating Elements in a Dictionary"
      ]
    },
    {
      "cell_type": "code",
      "metadata": {
        "id": "J66GyFzt7I_X"
      },
      "source": [
        "# Example 1\n",
        "# Let's update age on the dictionary my_new_friend \n",
        "#\n",
        "my_new_friend['age'] = 24\n",
        "\n",
        "# print out\n",
        "print(my_new_friend)"
      ],
      "execution_count": null,
      "outputs": []
    },
    {
      "cell_type": "code",
      "metadata": {
        "id": "zhJabm-I7Jr4"
      },
      "source": [
        "# Example 2\n",
        "# Let's update our dictionary my_new_friend\n",
        "#\n",
        "car[\"color\"] = \"light gray\"\n",
        "\n",
        "# and print out our dictionary\n",
        "print(car)"
      ],
      "execution_count": null,
      "outputs": []
    },
    {
      "cell_type": "code",
      "metadata": {
        "id": "PbbAVPsO7JfJ"
      },
      "source": [
        "# Example 3\n",
        "# Updating our class \n",
        "#\n",
        "our_class['Students'] = 29;\n",
        "\n",
        "# printing out our class to see the updates\n",
        "print(our_class)"
      ],
      "execution_count": null,
      "outputs": []
    },
    {
      "cell_type": "markdown",
      "metadata": {
        "id": "Hp9Jaf8V8PE1"
      },
      "source": [
        "### 1.3 Challenges"
      ]
    },
    {
      "cell_type": "code",
      "metadata": {
        "id": "LcK4RI6K8Qrp",
        "colab": {
          "base_uri": "https://localhost:8080/"
        },
        "outputId": "2f9b1784-9d38-46f4-cd79-388e7cd9d8ae"
      },
      "source": [
        "# Challenge 1\n",
        "# Let's update the value of the son and daughter keys of the family dictionary \n",
        "# that we had earlier on created\n",
        "#\n",
        "my_family['Son']= \"Derrick\"\n",
        "my_family['Daughter']= \"Patricia\"\n",
        "print(my_family)\n"
      ],
      "execution_count": null,
      "outputs": [
        {
          "output_type": "stream",
          "text": [
            "{'Father': 'Emmanuel', 'Mother': 'Salastine', 'Son': 'Derrick', 'Daughter': 'Patricia'}\n"
          ],
          "name": "stdout"
        }
      ]
    },
    {
      "cell_type": "code",
      "metadata": {
        "id": "EEU_gZax8RN6"
      },
      "source": [
        "# Challenge 2\n",
        "# Update value of the gold package in the caterer dictionary to \n",
        "# have vegetable as spinach, cabbage and managu\n",
        "#\n",
        "gold_package['vegetable']=\"spinach, cabbage and managu\"\n",
        "print(gold_package)"
      ],
      "execution_count": null,
      "outputs": []
    },
    {
      "cell_type": "code",
      "metadata": {
        "id": "jMEwHQI18RCX",
        "colab": {
          "base_uri": "https://localhost:8080/"
        },
        "outputId": "173a57ff-5c01-4b52-f8b1-b177a0545df7"
      },
      "source": [
        "# Challenge 3\n",
        "# Upon creating the Naivas supermarket dictionary program earlier on,\n",
        "# We will now extend the functionality of your program to be able to also update\n",
        "# the quantity of either the bread or packet of milk.\n",
        "# Write another program the will prompt the user to indicate whether they want\n",
        "# to update the quantity of the product or compute the total quantity of the total order.\n",
        "# Using if statements, your program should execute either to the code you had earlier\n",
        "# on written or to the new code for updating that you will now write\n",
        "#\n",
        "responce=input(\"Kindly enter '1' to calculate the totals or '2' to update the item quantity: \")\n",
        "if str(responce) == \"1\":\n",
        "  print(\"You have ordered \"+str(bread_input)+\" loaves of bread  of \"+str(bread_quantity)+\" grams.\")\n",
        "  print(\"You have ordered \"+str(milk_input)+\" Packets of milk  of \"+str(milk_quantity)+\" liters.\")\n",
        "elif str(responce) == \"2\":\n",
        "  bread_input = int(input(\"How many loaves of bread do you want? \"))\n",
        "  milk_input = int(input(\"How many packets of milk do you want? \"))\n",
        "\n",
        "  bread_quantity = bread_input * 400\n",
        "  milk_quantity = float(milk_input) * 0.5\n",
        "\n",
        "  print(\"You have ordered \"+str(bread_input)+\" loaves of bread  of \"+str(bread_quantity)+\" grams.\")\n",
        "  print(\"You have ordered \"+str(milk_input)+\" packets of milk  of \"+str(milk_quantity)+\" litres.\")\n",
        "  order = {'bread ordered':bread_input,\n",
        "         'milk ordered':milk_input,\n",
        "         'bread quatity':bread_quantity,            \n",
        "         'milk quantity':milk_quantity,                     \n",
        "    }\n",
        "else:\n",
        "  print(\"You have entered an invalid input\")\n",
        "\n",
        "\n"
      ],
      "execution_count": null,
      "outputs": [
        {
          "output_type": "stream",
          "text": [
            "Kindly enter '1' to calculate the totals or '2' to update the item quantity: 2\n",
            "How many loaves of bread do you want? 21\n",
            "How many packets of milk do you want? 54\n",
            "You have ordered 21 loaves of bread  of 8400 grams.\n",
            "You have ordered 54 packets of milk  of 27.0 litres.\n"
          ],
          "name": "stdout"
        }
      ]
    },
    {
      "cell_type": "markdown",
      "metadata": {
        "id": "50S5D_qI3kDD"
      },
      "source": [
        "## 1.4 Accessing Elements from a Dictionary"
      ]
    },
    {
      "cell_type": "code",
      "metadata": {
        "id": "ZBJa2FHU7Muf",
        "colab": {
          "base_uri": "https://localhost:8080/"
        },
        "outputId": "874d1904-0330-450b-e69c-8c06f16d2047"
      },
      "source": [
        "# Example 1\n",
        "# Accessing my_new_friend dictionary \n",
        "#\n",
        "name_a = my_new_friend[\"name\"]\n",
        "\n",
        "# print name_a\n",
        "print(name_a)\n",
        "\n",
        "# or we could also\n",
        "name_b = my_new_friend.get(\"name\")\n",
        "\n",
        "# print name_b\n",
        "print(name_b)"
      ],
      "execution_count": null,
      "outputs": [
        {
          "output_type": "stream",
          "text": [
            "Femi\n",
            "Femi\n"
          ],
          "name": "stdout"
        }
      ]
    },
    {
      "cell_type": "code",
      "metadata": {
        "id": "A8ggbH347NPz",
        "colab": {
          "base_uri": "https://localhost:8080/"
        },
        "outputId": "859fb39c-26a5-4199-8b2f-acb909efc9f1"
      },
      "source": [
        "# Example 2\n",
        "# Accessing the model in the car dictionary\n",
        "#\n",
        "car_a = car[\"brand\"]\n",
        "\n",
        "# print car_a\n",
        "print(car_a)\n",
        "\n",
        "# or we could also\n",
        "car_b = car.get(\"model\")\n",
        "\n",
        "# print name_b\n",
        "print(car_b)"
      ],
      "execution_count": null,
      "outputs": [
        {
          "output_type": "stream",
          "text": [
            "Toyota\n",
            "Prado\n"
          ],
          "name": "stdout"
        }
      ]
    },
    {
      "cell_type": "code",
      "metadata": {
        "id": "eaZxBKDf7NF4"
      },
      "source": [
        "# Example 3\n",
        "# Accessing the name in our_class dictionary\n",
        "#\n",
        "our_class_a = our_class[\"Name\"]\n",
        "\n",
        "# or we could also\n",
        "our_class_b = our_class.get(\"Name\")\n",
        "\n",
        "# print our_class_b \n",
        "print(our_class_b)"
      ],
      "execution_count": null,
      "outputs": []
    },
    {
      "cell_type": "markdown",
      "metadata": {
        "id": "mqnSUp-a8I65"
      },
      "source": [
        "### 1.4 Challenges"
      ]
    },
    {
      "cell_type": "code",
      "metadata": {
        "id": "uE_DKh_N8XMj",
        "colab": {
          "base_uri": "https://localhost:8080/"
        },
        "outputId": "1ecea4e2-ef66-477c-869d-2949b006c0a0"
      },
      "source": [
        "# Challenge 1\n",
        "# What is the power of 4 from the powers_dictionary\n",
        "# \n",
        "print(powers_dictionary['4'])\n"
      ],
      "execution_count": 10,
      "outputs": [
        {
          "output_type": "stream",
          "text": [
            "16\n"
          ],
          "name": "stdout"
        }
      ]
    },
    {
      "cell_type": "code",
      "metadata": {
        "id": "dt-ZmzrQ8YIM",
        "colab": {
          "base_uri": "https://localhost:8080/"
        },
        "outputId": "4dd71537-d05d-4b1e-c31c-b8f3c177ddae"
      },
      "source": [
        "# Challenge 2\n",
        "# Let's access the silver package from our caterer dictionary\n",
        "#call silver package key  in the full dictionary  \n",
        "print(full_package['Silver Package'])"
      ],
      "execution_count": null,
      "outputs": [
        {
          "output_type": "stream",
          "text": [
            "{'starch': 'rice and chapati', 'stew': 'beef curry', 'vegetable': 'spinach', 'desert': 'melons and bananas'}\n"
          ],
          "name": "stdout"
        }
      ]
    },
    {
      "cell_type": "code",
      "metadata": {
        "id": "xLEaTJdY8X4t",
        "colab": {
          "base_uri": "https://localhost:8080/"
        },
        "outputId": "a13a30dc-342c-4582-8945-32430afb0ec7"
      },
      "source": [
        "# Challenge 3\n",
        "# Access the name of the father from the family dictionary\n",
        "# \n",
        "print(my_family['Father'])"
      ],
      "execution_count": null,
      "outputs": [
        {
          "output_type": "stream",
          "text": [
            "Emmanuel\n"
          ],
          "name": "stdout"
        }
      ]
    },
    {
      "cell_type": "markdown",
      "metadata": {
        "id": "Amb1Bsrbwx6C"
      },
      "source": [
        "## 1.5 Checking if a Key exists"
      ]
    },
    {
      "cell_type": "code",
      "metadata": {
        "id": "bcY3c6DHwwu2",
        "colab": {
          "base_uri": "https://localhost:8080/"
        },
        "outputId": "6a47e626-9b36-4bbd-adc7-8af90ced0126"
      },
      "source": [
        "# Example 1\n",
        "# We can check if a specified key exists within a dictionary through the use of the `in` keyword;\n",
        "# Let's check if the keyword residence exists in my_new_friend dictionary\n",
        "# \n",
        "if \"residence\" in my_new_friend:\n",
        "  print(\"Yes, the keyword exists in the dictionary\")\n",
        "else:\n",
        "  print('No, the keyword does not exist in the dictionary')"
      ],
      "execution_count": null,
      "outputs": [
        {
          "output_type": "stream",
          "text": [
            "Yes, the keyword exists in the dictionary\n"
          ],
          "name": "stdout"
        }
      ]
    },
    {
      "cell_type": "code",
      "metadata": {
        "id": "KJYTGPMKw52k",
        "colab": {
          "base_uri": "https://localhost:8080/"
        },
        "outputId": "cd2c0129-3bd9-4557-fe7c-d8decee5fbc8"
      },
      "source": [
        "# Example 2\n",
        "# Let's check if the keyword year exists in car dictionary\n",
        "#\n",
        "if \"year\" in car:\n",
        "  print(\"Yes, the keyword exists in the dictionary\")\n",
        "else:\n",
        "  print('No, the keyword does not exist in the dictionary')"
      ],
      "execution_count": null,
      "outputs": [
        {
          "output_type": "stream",
          "text": [
            "Yes, the keyword exists in the dictionary\n"
          ],
          "name": "stdout"
        }
      ]
    },
    {
      "cell_type": "code",
      "metadata": {
        "id": "U0sTioBMw5tU"
      },
      "source": [
        "# Example 3\n",
        "# Checking if the keyword Wing exists in our_class dictionary\n",
        "#\n",
        "if \"Wing\" in our_class:\n",
        "  print(\"Yes, the keyword exists in the dictionary\")\n",
        "else:\n",
        "  print('No, the keyword does not exist in the dictionary')"
      ],
      "execution_count": null,
      "outputs": []
    },
    {
      "cell_type": "markdown",
      "metadata": {
        "id": "1OFB5fL1w6TM"
      },
      "source": [
        "### 1.5 Challenges"
      ]
    },
    {
      "cell_type": "code",
      "metadata": {
        "id": "oUCqFuf_w--X",
        "colab": {
          "base_uri": "https://localhost:8080/"
        },
        "outputId": "d6935a9a-540b-4cbd-d7c0-a3aae115e239"
      },
      "source": [
        "# Challenge 1\n",
        "# Does the model key exist in our car dictionary?\n",
        "#\n",
        "if \"model\" in car:\n",
        "  print(\"model key exists in the dictionary\")\n",
        "else:\n",
        "  print(\"model key does not exist in the dictionary\")"
      ],
      "execution_count": null,
      "outputs": [
        {
          "output_type": "stream",
          "text": [
            "model key exists in the dictionary\n"
          ],
          "name": "stdout"
        }
      ]
    },
    {
      "cell_type": "code",
      "metadata": {
        "id": "y2KKTbcmw_jK",
        "colab": {
          "base_uri": "https://localhost:8080/"
        },
        "outputId": "04253e50-d487-435a-e28f-857429a2842f"
      },
      "source": [
        "# Challenge 2\n",
        "# Does te\n",
        "# Let's get the power of 6 from our already created powers dictionary\n",
        "#CODE HERE!!\n",
        "powers_dictionary['6']=6**2\n",
        "\n",
        "print(powers_dictionary['6'])\n",
        "\n"
      ],
      "execution_count": 9,
      "outputs": [
        {
          "output_type": "stream",
          "text": [
            "36\n"
          ],
          "name": "stdout"
        }
      ]
    },
    {
      "cell_type": "code",
      "metadata": {
        "id": "bGck3KPGw_HE",
        "colab": {
          "base_uri": "https://localhost:8080/"
        },
        "outputId": "82bf321f-00ba-4e43-fac6-344f5aaf099a"
      },
      "source": [
        "# Challenge 3\n",
        "# Let's find out if the diamond package exists in the caterer package\n",
        "#\n",
        "if \"diamond_package\" in full_package:\n",
        "  print(\"Diamond package exists in the dictionary\")\n",
        "else:\n",
        "  print(\"Diamond package does not exist in the dictionary\")\n",
        "              "
      ],
      "execution_count": null,
      "outputs": [
        {
          "output_type": "stream",
          "text": [
            "Diamond package does not exist in the dictionary\n"
          ],
          "name": "stdout"
        }
      ]
    },
    {
      "cell_type": "markdown",
      "metadata": {
        "id": "GDrqXhcWzs6s"
      },
      "source": [
        "## 1.6 The No. of elements in a Dictionary"
      ]
    },
    {
      "cell_type": "code",
      "metadata": {
        "id": "mQMc9N3TzvUA",
        "colab": {
          "base_uri": "https://localhost:8080/"
        },
        "outputId": "61e097e0-114a-46d8-8dfb-bfdf5536ec58"
      },
      "source": [
        "# Example 1\n",
        "# We can use keyword `len()` to determine how many items (key - value pairs) there are in the dictionary.\n",
        "# Finding out how many items there are in the my_new_friend dictionary\n",
        "#\n",
        "print(len(my_new_friend))"
      ],
      "execution_count": null,
      "outputs": [
        {
          "output_type": "stream",
          "text": [
            "3\n"
          ],
          "name": "stdout"
        }
      ]
    },
    {
      "cell_type": "code",
      "metadata": {
        "id": "YJbVoIfzzvkC",
        "colab": {
          "base_uri": "https://localhost:8080/"
        },
        "outputId": "896d201c-cef3-4e0f-e5c5-94eea3e070fa"
      },
      "source": [
        "# Example 2\n",
        "# Finding out how many items there are in the car dictionary\n",
        "#\n",
        "print(len(car))"
      ],
      "execution_count": null,
      "outputs": [
        {
          "output_type": "stream",
          "text": [
            "3\n"
          ],
          "name": "stdout"
        }
      ]
    },
    {
      "cell_type": "code",
      "metadata": {
        "id": "ubNhcSttz050"
      },
      "source": [
        "# Example 3\n",
        "# Finding out how many items there are in the our_class dictionary\n",
        "#\n",
        "print(len(our_class))"
      ],
      "execution_count": null,
      "outputs": []
    },
    {
      "cell_type": "markdown",
      "metadata": {
        "id": "zN0YcqMmzwGU"
      },
      "source": [
        "### 1.6 Challenges"
      ]
    },
    {
      "cell_type": "code",
      "metadata": {
        "id": "9SWkSQvnz2bh",
        "colab": {
          "base_uri": "https://localhost:8080/"
        },
        "outputId": "1bee1289-a267-4f64-d941-51a6f01f45c4"
      },
      "source": [
        "# Challenge 1\n",
        "# Using the family dictionary, let's determine how many family members there are in the family?\n",
        "#\n",
        "print(len(my_family))"
      ],
      "execution_count": null,
      "outputs": [
        {
          "output_type": "stream",
          "text": [
            "4\n"
          ],
          "name": "stdout"
        }
      ]
    },
    {
      "cell_type": "code",
      "metadata": {
        "id": "GKXla2_Qz2Lx",
        "colab": {
          "base_uri": "https://localhost:8080/"
        },
        "outputId": "3d45e5e6-ee64-4ee9-f3f1-50ade9663e06"
      },
      "source": [
        "# Challenge 2\n",
        "# How many items have we stored in our anagrams dictionary?\n",
        "#\n",
        "print(len(dictionary))"
      ],
      "execution_count": null,
      "outputs": [
        {
          "output_type": "stream",
          "text": [
            "2\n"
          ],
          "name": "stdout"
        }
      ]
    },
    {
      "cell_type": "code",
      "metadata": {
        "id": "y1Yc0df-z2AG",
        "colab": {
          "base_uri": "https://localhost:8080/"
        },
        "outputId": "6a28c83b-ae8b-477d-8c2d-99ae4994e9b0"
      },
      "source": [
        "# Challange 3\n",
        "# Using the cater dictionary, how many meals do we have in our gold package? \n",
        "# \n",
        "print(len(full_package['Gold Package']))"
      ],
      "execution_count": null,
      "outputs": [
        {
          "output_type": "stream",
          "text": [
            "4\n"
          ],
          "name": "stdout"
        }
      ]
    },
    {
      "cell_type": "markdown",
      "metadata": {
        "id": "t3HfcEjn306L"
      },
      "source": [
        "## 1.7 Removing Elements from a Dictionary"
      ]
    },
    {
      "cell_type": "code",
      "metadata": {
        "id": "g9zlKoiL7PaV"
      },
      "source": [
        "# Example 1\n",
        "# We can remove a specific item from the dictionary \n",
        "# with the specified key name using the pop() method. \n",
        "# The clear() method clears the items in the dictionary \n",
        "# while the del keyword deletes the dictionary completely.\n",
        "\n",
        "\n",
        "# Removing age from my_new_friend dictionary\n",
        "updated_my_new_friend = my_new_friend.pop(\"age\")\n",
        "\n",
        "# printing out the updated dictionary\n",
        "print(updated_my_new_friend)\n",
        "\n",
        "# now clearing the dictionary \n",
        "updated_my_new_friend.clear()\n",
        "\n",
        "\n",
        "# printing out the cleared dictionary\n",
        "print(updated_my_new_friend)\n",
        "\n",
        "# deleting the dictionary completely\n",
        "del updated_my_new_friend"
      ],
      "execution_count": null,
      "outputs": []
    },
    {
      "cell_type": "code",
      "metadata": {
        "id": "JAKiQ6y97PMq"
      },
      "source": [
        "# Example 2\n",
        "# Removing model from car dictionary\n",
        "\n",
        "# using the pop method\n",
        "updated_car = car.pop(\"model\")\n",
        "\n",
        "# printing out the updated car dictionary\n",
        "print(updated_car)\n",
        "\n",
        "# now clearing the dictionary \n",
        "updated_car.clear()\n",
        "\n",
        "# printing out the cleared dictionary\n",
        "print(updated_car)\n",
        "\n",
        "# deleting the dictionary completely\n",
        "del updated_car"
      ],
      "execution_count": null,
      "outputs": []
    },
    {
      "cell_type": "code",
      "metadata": {
        "id": "hJDrF-_i7OzG"
      },
      "source": [
        "# Example 3\n",
        "# Removing School from our_class dictionary\n",
        "\n",
        "# using the pop method\n",
        "our_class.pop(\"School\")\n",
        "\n",
        "# printing out the updated our_class dictionary\n",
        "print(our_class)\n",
        "\n",
        "# now clearing the dictionary \n",
        "our_class.clear()\n",
        "\n",
        "# printing out the cleared dictionary\n",
        "print(our_class)\n",
        "\n",
        "# deleting the dictionary completely\n",
        "del our_class"
      ],
      "execution_count": null,
      "outputs": []
    },
    {
      "cell_type": "markdown",
      "metadata": {
        "id": "ZSQ6Uyb98jUU"
      },
      "source": [
        "### Challenges 1.7"
      ]
    },
    {
      "cell_type": "code",
      "metadata": {
        "id": "SJv-VzAa8liR"
      },
      "source": [
        "# Challenge 1\n",
        "# Let's delete our family dictionary\n",
        "#\n",
        "del my_family"
      ],
      "execution_count": null,
      "outputs": []
    },
    {
      "cell_type": "code",
      "metadata": {
        "id": "RtPPDlUg8mdN",
        "colab": {
          "base_uri": "https://localhost:8080/"
        },
        "outputId": "f8bd870b-2440-4d9b-c11d-3219147cb2c2"
      },
      "source": [
        "# Challenge 2\n",
        "# Let's clear our anagrams dictionary\n",
        "#using pop method to remover second item in the dictonary\n",
        "dictionary.pop('str2')\n",
        "\n",
        "#print dictionary\n",
        "print(dictionary)\n",
        "\n",
        "#clearing the dictionary\n",
        "dictionary.clear()\n",
        "\n",
        "#printing the new dictionary\n",
        "print(dictionary)\n"
      ],
      "execution_count": null,
      "outputs": [
        {
          "output_type": "stream",
          "text": [
            "{'str1': 'lead'}\n",
            "{}\n"
          ],
          "name": "stdout"
        }
      ]
    },
    {
      "cell_type": "code",
      "metadata": {
        "id": "de_1tLbS8mNr",
        "colab": {
          "base_uri": "https://localhost:8080/"
        },
        "outputId": "7fb2ec6c-d751-409b-e5ce-14470d0825c8"
      },
      "source": [
        "# Challenge 3\n",
        "# Let's add another fuctionality to our Naivas Supermarket program\n",
        "# The program will be updated to request the user to whether to delete \n",
        "# any product. If so, the user should perform the deletion respectively.\n",
        "#\n",
        "answer=input(\"Kindly enter '1' to calculate the totals or '2' to update the item quantity or '3' to delete records: \")\n",
        "if int(answer) == 1:\n",
        "  print(\"You have ordered \"+str(bread_input)+\" loaves of bread  of \"+str(bread_quantity)+\" grams.\")\n",
        "  print(\"You have ordered \"+str(milk_input)+\" Packets of milk  of \"+str(milk_quantity)+\" liters.\")\n",
        "elif int(answer) == 2:\n",
        "  bread_input = int(input(\"How many loaves of bread do you want? \"))\n",
        "  milk_input = int(input(\"How many packets of milk do you want? \"))\n",
        "\n",
        "  bread_quantity = bread_input * 400\n",
        "  milk_quantity = float(milk_input) * 0.5\n",
        "\n",
        "  print(\"You have ordered \"+str(bread_input)+\" loaves of bread  of \"+str(bread_quantity)+\" grams.\")\n",
        "  print(\"You have ordered \"+str(milk_input)+\" packets of milk  of \"+str(milk_quantity)+\" litres.\")\n",
        "  order = {'bread ordered':bread_input,\n",
        "         'milk ordered':milk_input,\n",
        "         'bread quantity':bread_quantity,            \n",
        "         'milk quantity':milk_quantity,                     \n",
        "    }\n",
        "elif int(answer)== 3:\n",
        "  delete_answer=input(\"select 1 if you want to delete a record or 2 to delete the entire dictionary: \")\n",
        "  if int(delete_answer) == 1:\n",
        "    record_delete=input(\"Select 1 do remove milk record and 2 for milk record: \")\n",
        "    if int(record_delete) == 1:\n",
        "      order.pop('bread ordered')\n",
        "      order.pop('bread quantity')\n",
        "      print(order)\n",
        "    elif int(record_delete) == 2:\n",
        "      order.pop('milk ordered')\n",
        "      order.pop('milk quantity')\n",
        "      print(order)\n",
        "    else:\n",
        "      print(\"invalid response\")\n",
        "  elif int(delete_answer) == 2:\n",
        "    order.clear()\n",
        "  else:\n",
        "    print(\"invalid response\")\n",
        "else:\n",
        "  print(\"You have entered an invalid input\")"
      ],
      "execution_count": null,
      "outputs": [
        {
          "output_type": "stream",
          "text": [
            "Kindly enter '1' to calculate the totals or '2' to update the item quantity or '3' to delete records: 3\n",
            "select 1 if you want to delete a record or 2 to delete the entire dictionary: 1\n",
            "1 do remove milk record and 2 for milk record: 1\n",
            "{'milk ordered': 2, 'milk quantity': 1.0}\n"
          ],
          "name": "stdout"
        }
      ]
    }
  ]
}