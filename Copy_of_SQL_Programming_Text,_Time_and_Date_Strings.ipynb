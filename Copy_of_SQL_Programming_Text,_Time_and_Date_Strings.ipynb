{
  "nbformat": 4,
  "nbformat_minor": 0,
  "metadata": {
    "colab": {
      "name": "Copy of SQL Programming - Text, Time and Date Strings",
      "provenance": [],
      "collapsed_sections": [],
      "toc_visible": true,
      "include_colab_link": true
    },
    "kernelspec": {
      "name": "python3",
      "display_name": "Python 3"
    }
  },
  "cells": [
    {
      "cell_type": "markdown",
      "metadata": {
        "id": "view-in-github",
        "colab_type": "text"
      },
      "source": [
        "<a href=\"https://colab.research.google.com/github/kevinkirotichkibet/MoringaSchoolDataSciencewk2/blob/main/Copy_of_SQL_Programming_Text%2C_Time_and_Date_Strings.ipynb\" target=\"_parent\"><img src=\"https://colab.research.google.com/assets/colab-badge.svg\" alt=\"Open In Colab\"/></a>"
      ]
    },
    {
      "cell_type": "markdown",
      "metadata": {
        "id": "Ex7oqvOZZZQu"
      },
      "source": [
        "<font color=\"green\">*To start working on this notebook, or any other notebook that we will use in the Moringa Data Science Course, we will need to save our own copy of it. We can do this by clicking File > Save a Copy in Drive. We will then be able to make edits to our own copy of this notebook.*</font>"
      ]
    },
    {
      "cell_type": "markdown",
      "metadata": {
        "id": "OIIswKWoZEob"
      },
      "source": [
        "# 1. SQL Programming - Text, Time and Date Strings"
      ]
    },
    {
      "cell_type": "markdown",
      "metadata": {
        "id": "gns5TJfPZCCB"
      },
      "source": [
        "## 1.0 Connecting to our Database"
      ]
    },
    {
      "cell_type": "code",
      "metadata": {
        "id": "aR2xslaQWceL"
      },
      "source": [
        "# We will first load the sql extension into our environment\n",
        "%load_ext sql\n",
        "\n",
        "# Then connect to our in memory sqlite database\n",
        "# NB: This database will cease to exist as soon as the database connection is closed. \n",
        "%sql sqlite://"
      ],
      "execution_count": null,
      "outputs": []
    },
    {
      "cell_type": "markdown",
      "metadata": {
        "id": "RPsqmCbjcljo"
      },
      "source": [
        "Datasets used in this notebook:\n",
        "\n",
        "\n",
        "1.   **Main Lighting Energy Sources averaged to Districts in 2009**\n",
        "\n",
        "> ([Dataset Download Link](https://drive.google.com/a/moringaschool.com/file/d/1XyZwH35bo99OZIAGHH8LMN48stLwyG-b/view?usp=sharing))\n",
        "\n",
        "2.   **Kisumu County Energy and Mining Project Implementation Status** \n",
        "\n",
        "> ([Dataset Download Link](https://drive.google.com/a/moringaschool.com/file/d/1awhsX-tmd_RvM1PxPhhg21GTFuDn34ca/view?usp=sharing))\n",
        "\n",
        "3. **Population by District**\n",
        "\n",
        ">  ([Dataset Download Link](https://drive.google.com/a/moringaschool.com/file/d/1ZpbtJ-YAzfAtnQ4k-R_zpEbYRvP5lZhr/view?usp=sharing))\n",
        "\n",
        "4. **Visitors to Kenya between 1991 to 2014**\n",
        "\n",
        ">  ([Dataset Download Link](https://drive.google.com/a/moringaschool.com/file/d/1FJs1YU76tRyHEtHU6w62LYQlR8Jz_4d1/view?usp=sharing))\n",
        "\n",
        "5. **Boston Marathon Results 2016**\n",
        "\n",
        ">  ([Dataset Download Link](https://drive.google.com/a/moringaschool.com/file/d/1FKhXZemUZuwYSJydUDgukyqJt3ouvKGi/view?usp=sharing))\n",
        "\n",
        "6. **Kenyan Government Appointments**\n",
        "\n",
        ">  ([Dataset Download Link](https://drive.google.com/a/moringaschool.com/file/d/19m7bydCYOyH8qb68S-Jn-dAX0TrjSHKh/view?usp=sharing))\n",
        "\n",
        "7. **Tea Production**\n",
        "\n",
        ">  ([Dataset Download Link](https://drive.google.com/open?id=1Nf3SfkLuxK8oWX2m_RAOILLrpY7pFDaF))\n",
        "\n"
      ]
    },
    {
      "cell_type": "markdown",
      "metadata": {
        "id": "yLQD0MY2a-2H"
      },
      "source": [
        "## 1.1 Loading our Datasets"
      ]
    },
    {
      "cell_type": "code",
      "metadata": {
        "id": "hqLapdFXbfsp"
      },
      "source": [
        "# Importing Pandas\n",
        "import pandas as pd"
      ],
      "execution_count": null,
      "outputs": []
    },
    {
      "cell_type": "code",
      "metadata": {
        "id": "4eDIVhifGiZh"
      },
      "source": [
        "# Loading our lighting dataset  from the respective CSV file \n",
        "with open('/content/lighting_dataset.csv','r') as f:\n",
        "    LightingDataset = pd.read_csv(f, index_col=0, encoding='utf-8')\n",
        "#%sql DROP TABLE if EXISTS LightingDataset;\n",
        "%sql PERSIST LightingDataset;\n",
        "%sql SELECT * FROM LightingDataset LIMIT 5;"
      ],
      "execution_count": null,
      "outputs": []
    },
    {
      "cell_type": "code",
      "metadata": {
        "id": "O7g4-q_-d8N-"
      },
      "source": [
        "# Loading our energy mining dataset from the respective CSV file\n",
        "with open('/content/energy_mining_dataset.csv','r') as f:\n",
        "    EnergyMining = pd.read_csv(f, index_col=0, encoding='utf-8')\n",
        "#%sql DROP TABLE if EXISTS EnergyMining;\n",
        "%sql PERSIST EnergyMining;\n",
        "%sql SELECT * FROM EnergyMining LIMIT 5;"
      ],
      "execution_count": null,
      "outputs": []
    },
    {
      "cell_type": "code",
      "metadata": {
        "id": "4LxuTNcW2IgY"
      },
      "source": [
        "# Loading our population by districtdataset from the respective CSV file\n",
        "with open('/content/population_by_district.csv','r') as f:\n",
        "    PopulationByDistrict = pd.read_csv(f, index_col=0, encoding='utf-8')\n",
        "#%sql DROP TABLE if EXISTS PopulationByDistrict;\n",
        "%sql PERSIST PopulationByDistrict;\n",
        "%sql SELECT * FROM PopulationByDistrict LIMIT 5;"
      ],
      "execution_count": null,
      "outputs": []
    },
    {
      "cell_type": "code",
      "metadata": {
        "id": "A31Y9nJFGW1o",
        "colab": {
          "base_uri": "https://localhost:8080/",
          "height": 192
        },
        "outputId": "af35c462-73ff-4f60-af34-80e201087d17"
      },
      "source": [
        "# Loading our visitors to kenya dataset from the respective CSV file\n",
        "with open('/content/visitors_to_kenya.csv','r') as f:\n",
        "    KenyanVisitors = pd.read_csv(f, index_col=0, encoding='utf-8')\n",
        "#%sql DROP TABLE if EXISTS KenyanVisitors;\n",
        "%sql PERSIST KenyanVisitors;\n",
        "%sql SELECT * FROM KenyanVisitors LIMIT 5;"
      ],
      "execution_count": null,
      "outputs": [
        {
          "output_type": "stream",
          "text": [
            " * sqlite://\n",
            " * sqlite://\n",
            "Done.\n"
          ],
          "name": "stdout"
        },
        {
          "output_type": "execute_result",
          "data": {
            "text/html": [
              "<table>\n",
              "    <thead>\n",
              "        <tr>\n",
              "            <th>Arrival_or_Departure</th>\n",
              "            <th>Date_End_of_Quater</th>\n",
              "            <th>Year_Text</th>\n",
              "            <th>No_of_Visitors_to_Kenya</th>\n",
              "            <th>Visitors_by_Purpose</th>\n",
              "            <th>Period_Quater</th>\n",
              "            <th>Results_Status</th>\n",
              "            <th>OBJECTID</th>\n",
              "        </tr>\n",
              "    </thead>\n",
              "    <tbody>\n",
              "        <tr>\n",
              "            <td>Arrivals</td>\n",
              "            <td>03/31/2005 12:00:00 AM</td>\n",
              "            <td>2005</td>\n",
              "            <td>264600</td>\n",
              "            <td>Visitors on Holiday</td>\n",
              "            <td>Q1</td>\n",
              "            <td>Actual</td>\n",
              "            <td>0</td>\n",
              "        </tr>\n",
              "        <tr>\n",
              "            <td>Arrivals</td>\n",
              "            <td>06/30/1991 12:00:00 AM</td>\n",
              "            <td>1991</td>\n",
              "            <td>149400</td>\n",
              "            <td>Visitors on Holiday</td>\n",
              "            <td>Q2</td>\n",
              "            <td>Actual</td>\n",
              "            <td>1</td>\n",
              "        </tr>\n",
              "        <tr>\n",
              "            <td>Arrivals</td>\n",
              "            <td>09/30/1991 12:00:00 AM</td>\n",
              "            <td>1991</td>\n",
              "            <td>215900</td>\n",
              "            <td>Visitors on Holiday</td>\n",
              "            <td>Q3</td>\n",
              "            <td>Actual</td>\n",
              "            <td>2</td>\n",
              "        </tr>\n",
              "        <tr>\n",
              "            <td>Arrivals</td>\n",
              "            <td>12/31/1991 12:00:00 AM</td>\n",
              "            <td>1991</td>\n",
              "            <td>158400</td>\n",
              "            <td>Visitors on Holiday</td>\n",
              "            <td>Q4</td>\n",
              "            <td>Actual</td>\n",
              "            <td>3</td>\n",
              "        </tr>\n",
              "        <tr>\n",
              "            <td>Arrivals</td>\n",
              "            <td>03/31/1992 12:00:00 AM</td>\n",
              "            <td>1992</td>\n",
              "            <td>155400</td>\n",
              "            <td>Visitors on Holiday</td>\n",
              "            <td>Q1</td>\n",
              "            <td>Actual</td>\n",
              "            <td>4</td>\n",
              "        </tr>\n",
              "    </tbody>\n",
              "</table>"
            ],
            "text/plain": [
              "[('Arrivals', '03/31/2005 12:00:00 AM', '2005', 264600, 'Visitors on Holiday', 'Q1', 'Actual', 0),\n",
              " ('Arrivals', '06/30/1991 12:00:00 AM', '1991', 149400, 'Visitors on Holiday', 'Q2', 'Actual', 1),\n",
              " ('Arrivals', '09/30/1991 12:00:00 AM', '1991', 215900, 'Visitors on Holiday', 'Q3', 'Actual', 2),\n",
              " ('Arrivals', '12/31/1991 12:00:00 AM', '1991', 158400, 'Visitors on Holiday', 'Q4', 'Actual', 3),\n",
              " ('Arrivals', '03/31/1992 12:00:00 AM', '1992', 155400, 'Visitors on Holiday', 'Q1', 'Actual', 4)]"
            ]
          },
          "metadata": {
            "tags": []
          },
          "execution_count": 56
        }
      ]
    },
    {
      "cell_type": "code",
      "metadata": {
        "id": "oQlC_rF6vkAt"
      },
      "source": [
        "# Loading our marathon dataset from the respective CSV file\n",
        "#\n",
        "with open('/content/marathon_results_2016.csv','r') as f:\n",
        "    MarathonResults = pd.read_csv(f, index_col=0, encoding='utf-8')\n",
        "#%sql DROP TABLE if EXISTS MarathonResults;\n",
        "%sql PERSIST MarathonResults;\n",
        "%sql SELECT * FROM MarathonResults LIMIT 5;"
      ],
      "execution_count": null,
      "outputs": []
    },
    {
      "cell_type": "code",
      "metadata": {
        "id": "NGeUQqRMLQU7"
      },
      "source": [
        "# Loading our Kenyan government appointments dataset below\n",
        "#\n",
        "with open('/content/government_appointments.csv','r') as f:\n",
        "    GovermentAppointments = pd.read_csv(f, index_col=0, encoding='utf-8')\n",
        "#%sql DROP TABLE if EXISTS GovermentAppointments;\n",
        "%sql PERSIST GovermentAppointments;\n",
        "%sql SELECT * FROM GovermentAppointments LIMIT 5;"
      ],
      "execution_count": null,
      "outputs": []
    },
    {
      "cell_type": "code",
      "metadata": {
        "id": "OdYR80CuMbFD"
      },
      "source": [
        "# Loading our Tea dataset below\n",
        "#\n",
        "with open('/content/tea_production.csv','r') as f:\n",
        "    TeaProduction = pd.read_csv(f, index_col=0, encoding='utf-8')\n",
        "#%sql DROP TABLE if EXISTS TeaProduction;\n",
        "%sql PERSIST TeaProduction;\n",
        "%sql SELECT * FROM TeaProduction LIMIT 5;"
      ],
      "execution_count": null,
      "outputs": []
    },
    {
      "cell_type": "markdown",
      "metadata": {
        "id": "hZMiwaprbFRD"
      },
      "source": [
        "## 1.2 Text Strings"
      ]
    },
    {
      "cell_type": "code",
      "metadata": {
        "id": "_u1m-FQnbh7H"
      },
      "source": [
        "# Example 1\n",
        "# Using the EnergyMining dataset, we can concatenate (combine) \n",
        "# the Ward and County columns (i.e attributes)\n",
        "# into a new column Region. Then only select 5 of those regions\n",
        "#\n",
        "%%sql  \n",
        "SELECT *, WARD || ', ' || COUNTY AS Region\n",
        "FROM EnergyDataset LIMIT 5;"
      ],
      "execution_count": null,
      "outputs": []
    },
    {
      "cell_type": "code",
      "metadata": {
        "id": "Rk7JTCrZbhyD"
      },
      "source": [
        "# Example 2\n",
        "# Using the main lighting dataset, we can also replace the null cells with 0\n",
        "# as shown below\n",
        "# \n",
        "%%sql \n",
        "SELECT PROJECT_NAME, REPLACE(\"STATUS\", '100 % Complete', '100%') AS \"Project Status\" \n",
        "FROM EnergyMining;\n"
      ],
      "execution_count": null,
      "outputs": []
    },
    {
      "cell_type": "code",
      "metadata": {
        "id": "mDr4BRmWbhpQ"
      },
      "source": [
        "# Example 3\n",
        "# Using the Population by District dataset, we change values of County column to lowercase \n",
        "# as shown below\n",
        "#\n",
        "%%sql\n",
        "SELECT *, LOWER(County) AS \"County Name\"\n",
        "FROM PopulationByDistrict;"
      ],
      "execution_count": null,
      "outputs": []
    },
    {
      "cell_type": "markdown",
      "metadata": {
        "id": "TUnOLEFCbk0o"
      },
      "source": [
        "### <font color=\"green\">1.2 Challenges</font>"
      ]
    },
    {
      "cell_type": "code",
      "metadata": {
        "id": "DInKcbjQb9lv"
      },
      "source": [
        "# Challenge 1\n",
        "# Using the Governments appointments dataset, \n",
        "# in gender field, let's replace m = 1 and f = 0\n",
        "# \n",
        "%%sql\n",
        "SELECT Gender, REPLACE(\"Gender\",\"m\",\"1\") OR REPLACE(\"Gender\",\"f\",\"0\") AS \"Gender_New\"\n",
        "FROM GovermentAppointments;"
      ],
      "execution_count": null,
      "outputs": []
    },
    {
      "cell_type": "code",
      "metadata": {
        "id": "oUwumQgkb-zE"
      },
      "source": [
        "# Challenge 2\n",
        "# Using the Governments appointments dataset, \n",
        "# Let's merge the person appointing field with the appointers position field\n",
        "#\n",
        "%%sql\n",
        "SELECT *, \"Person_Appointing_\" || ',' || \"Apointers_Position\" AS \"Person_Appointing_ and Apointers_Position\"\n",
        "FROM GovermentAppointments;"
      ],
      "execution_count": null,
      "outputs": []
    },
    {
      "cell_type": "code",
      "metadata": {
        "id": "Dmotlbe8b_xE"
      },
      "source": [
        "# Challenge 3\n",
        "# Using the Population by District dataset, \n",
        "# let's change the values of the District column to lowercase \n",
        "# and display these values in a new column \n",
        "# \n",
        "%%sql\n",
        "SELECT *, LOWER(\"District\") AS \"Lowecase District\"\n",
        "FROM PopulationByDistrict;"
      ],
      "execution_count": null,
      "outputs": []
    },
    {
      "cell_type": "markdown",
      "metadata": {
        "id": "dyTun0GIbK67"
      },
      "source": [
        "## 1.3 Time Strings"
      ]
    },
    {
      "cell_type": "code",
      "metadata": {
        "id": "v45ZeTF8cFXq"
      },
      "source": [
        "# Example 1\n",
        "# You can work with time data just like any other kind of data type \n",
        "# when it is in the time format; HH:MM:SS\n",
        "# Let's answer some questions to see how this works\n",
        "# Question: Which athletes took time between 15.30 and 15.59 to pass the 5K mark?\n",
        "# NB: We order the results\n",
        "#\n",
        "%%sql \n",
        "SELECT Name, \"5K\" FROM MarathonResults \n",
        "WHERE \"5K\" > '0:15:30' and \"5K\" < '0:15:59' ORDER BY \"5K\" ASC;"
      ],
      "execution_count": null,
      "outputs": []
    },
    {
      "cell_type": "code",
      "metadata": {
        "id": "M08B6GRcxuuo"
      },
      "source": [
        "# Example 2\n",
        "# Finding the minimum amount of time taken to cover 15K by an athlete during the marathon. \n",
        "# Hint: We use a where clause to ignore null/blank values - we will learn how to \n",
        "# deal with such values later in the course\n",
        "# \n",
        "%%sql\n",
        "SELECT MIN(\"5K\") \n",
        "FROM MarathonResults \n",
        "WHERE \"5K\" > 0;"
      ],
      "execution_count": null,
      "outputs": []
    },
    {
      "cell_type": "code",
      "metadata": {
        "id": "lWtS8KupcHhr"
      },
      "source": [
        "# Example 3\n",
        "# What was the average time covered by all athletes past the 10K mark?\n",
        "# \n",
        "%%sql\n",
        "SELECT time(AVG(\"10K\")) \n",
        "FROM MarathonResults \n",
        "WHERE \"10K\" > 0;"
      ],
      "execution_count": null,
      "outputs": []
    },
    {
      "cell_type": "markdown",
      "metadata": {
        "id": "pS4CWYNGcJZw"
      },
      "source": [
        "### <font color=\"green\">1.3 Challenges</font>"
      ]
    },
    {
      "cell_type": "code",
      "metadata": {
        "id": "-1a8zfZFcCHg",
        "colab": {
          "base_uri": "https://localhost:8080/",
          "height": 174
        },
        "outputId": "3fc0fe42-5d20-4a2c-e5c8-0ab27d7c12b6"
      },
      "source": [
        "# Challenge 1\n",
        "# What were the names and time of the athletes who finished the marathon before 2hrs 15min official time?\n",
        "# NB: Order your names by time in ascending order\n",
        "# \n",
        "%%sql\n",
        "SELECT Name, \"Official Time\" FROM MarathonResults\n",
        "WHERE \"Official Time\" < \"2:15:00\" and \"Official Time\" > \"00:00:00\" ORDER BY Name ASC;"
      ],
      "execution_count": null,
      "outputs": [
        {
          "output_type": "stream",
          "text": [
            " * sqlite://\n",
            "Done.\n"
          ],
          "name": "stdout"
        },
        {
          "output_type": "execute_result",
          "data": {
            "text/html": [
              "<table>\n",
              "    <thead>\n",
              "        <tr>\n",
              "            <th>Name</th>\n",
              "            <th>Official Time</th>\n",
              "        </tr>\n",
              "    </thead>\n",
              "    <tbody>\n",
              "        <tr>\n",
              "            <td>Desisa, Lelisa</td>\n",
              "            <td>2:13:32</td>\n",
              "        </tr>\n",
              "        <tr>\n",
              "            <td>Haslet, Adrianne K.</td>\n",
              "            <td>10:30:23</td>\n",
              "        </tr>\n",
              "        <tr>\n",
              "            <td>Hayle, Lemi Berhanu</td>\n",
              "            <td>2:12:45</td>\n",
              "        </tr>\n",
              "        <tr>\n",
              "            <td>Korir, Wesley</td>\n",
              "            <td>2:14:05</td>\n",
              "        </tr>\n",
              "        <tr>\n",
              "            <td>Tsegay, Yemane Adhane</td>\n",
              "            <td>2:14:02</td>\n",
              "        </tr>\n",
              "    </tbody>\n",
              "</table>"
            ],
            "text/plain": [
              "[('Desisa, Lelisa', '2:13:32'),\n",
              " ('Haslet, Adrianne K.', '10:30:23'),\n",
              " ('Hayle, Lemi Berhanu', '2:12:45'),\n",
              " ('Korir, Wesley', '2:14:05'),\n",
              " ('Tsegay, Yemane Adhane', '2:14:02')]"
            ]
          },
          "metadata": {
            "tags": []
          },
          "execution_count": 42
        }
      ]
    },
    {
      "cell_type": "code",
      "metadata": {
        "id": "0SaAJYQ1cDTo",
        "colab": {
          "base_uri": "https://localhost:8080/",
          "height": 134
        },
        "outputId": "b1455c0d-f4d4-4280-b694-cafe0dc18681"
      },
      "source": [
        "# Challenge 2\n",
        "# Which countries came top 3 in completing the marathon before 2hrs 15min?\n",
        "#\n",
        "%%sql\n",
        "SELECT Country FROM MarathonResults\n",
        "WHERE \"Official Time\" < \"2:15:00\" and \"Official Time\" > \"00:00:00\" ORDER BY Country ASC LIMIT 3;"
      ],
      "execution_count": null,
      "outputs": [
        {
          "output_type": "stream",
          "text": [
            " * sqlite://\n",
            "Done.\n"
          ],
          "name": "stdout"
        },
        {
          "output_type": "execute_result",
          "data": {
            "text/html": [
              "<table>\n",
              "    <thead>\n",
              "        <tr>\n",
              "            <th>Country</th>\n",
              "        </tr>\n",
              "    </thead>\n",
              "    <tbody>\n",
              "        <tr>\n",
              "            <td>ETH</td>\n",
              "        </tr>\n",
              "        <tr>\n",
              "            <td>ETH</td>\n",
              "        </tr>\n",
              "        <tr>\n",
              "            <td>ETH</td>\n",
              "        </tr>\n",
              "    </tbody>\n",
              "</table>"
            ],
            "text/plain": [
              "[('ETH',), ('ETH',), ('ETH',)]"
            ]
          },
          "metadata": {
            "tags": []
          },
          "execution_count": 52
        }
      ]
    },
    {
      "cell_type": "code",
      "metadata": {
        "id": "6t6YOOZXcEac"
      },
      "source": [
        "# Challenge 3\n",
        "# How many athletes ran 30K under 1hr 34min? Name these athletes.\n",
        "# \n",
        "%%sql\n",
        "SELECt Name FROM MarathonResults\n",
        "WHERE \"30K\" < \"1:34:00\" \n",
        "ORDER BY Name ASC;"
      ],
      "execution_count": null,
      "outputs": []
    },
    {
      "cell_type": "markdown",
      "metadata": {
        "id": "JkZaAjv-bSPO"
      },
      "source": [
        "## 1.4 Date Strings"
      ]
    },
    {
      "cell_type": "code",
      "metadata": {
        "id": "Tne2OvPScRy8",
        "colab": {
          "base_uri": "https://localhost:8080/",
          "height": 174
        },
        "outputId": "e8eb3a8b-87f9-4ec4-c588-ed0d3d853f66"
      },
      "source": [
        "# Example 1\n",
        "# At times we would like to work with the data that is stored in the form of dates\n",
        "# However, this kind of data can be really difficult to work with if it is not stored\n",
        "# in datetime Data Type i.e. YYYY-MM-DD HH:MM:SS. It can even be misleading while \n",
        "# performing operations to our data. \n",
        "# Thus, when we get a dataset such as the one previewed below we will note that the datetime data \n",
        "# within the \"Date_End_of_Quater\" column is not in the datetime Data Type. \n",
        "# We will need to fix this;\n",
        "# \n",
        "%sql SELECT * FROM KenyanVisitors LIMIT 5;"
      ],
      "execution_count": null,
      "outputs": [
        {
          "output_type": "stream",
          "text": [
            " * sqlite://\n",
            "Done.\n"
          ],
          "name": "stdout"
        },
        {
          "output_type": "execute_result",
          "data": {
            "text/html": [
              "<table>\n",
              "    <thead>\n",
              "        <tr>\n",
              "            <th>Arrival_or_Departure</th>\n",
              "            <th>Date_End_of_Quater</th>\n",
              "            <th>Year_Text</th>\n",
              "            <th>No_of_Visitors_to_Kenya</th>\n",
              "            <th>Visitors_by_Purpose</th>\n",
              "            <th>Period_Quater</th>\n",
              "            <th>Results_Status</th>\n",
              "            <th>OBJECTID</th>\n",
              "        </tr>\n",
              "    </thead>\n",
              "    <tbody>\n",
              "        <tr>\n",
              "            <td>Arrivals</td>\n",
              "            <td>03/31/2005 12:00:00 AM</td>\n",
              "            <td>2005</td>\n",
              "            <td>264600</td>\n",
              "            <td>Visitors on Holiday</td>\n",
              "            <td>Q1</td>\n",
              "            <td>Actual</td>\n",
              "            <td>0</td>\n",
              "        </tr>\n",
              "        <tr>\n",
              "            <td>Arrivals</td>\n",
              "            <td>06/30/1991 12:00:00 AM</td>\n",
              "            <td>1991</td>\n",
              "            <td>149400</td>\n",
              "            <td>Visitors on Holiday</td>\n",
              "            <td>Q2</td>\n",
              "            <td>Actual</td>\n",
              "            <td>1</td>\n",
              "        </tr>\n",
              "        <tr>\n",
              "            <td>Arrivals</td>\n",
              "            <td>09/30/1991 12:00:00 AM</td>\n",
              "            <td>1991</td>\n",
              "            <td>215900</td>\n",
              "            <td>Visitors on Holiday</td>\n",
              "            <td>Q3</td>\n",
              "            <td>Actual</td>\n",
              "            <td>2</td>\n",
              "        </tr>\n",
              "        <tr>\n",
              "            <td>Arrivals</td>\n",
              "            <td>12/31/1991 12:00:00 AM</td>\n",
              "            <td>1991</td>\n",
              "            <td>158400</td>\n",
              "            <td>Visitors on Holiday</td>\n",
              "            <td>Q4</td>\n",
              "            <td>Actual</td>\n",
              "            <td>3</td>\n",
              "        </tr>\n",
              "        <tr>\n",
              "            <td>Arrivals</td>\n",
              "            <td>03/31/1992 12:00:00 AM</td>\n",
              "            <td>1992</td>\n",
              "            <td>155400</td>\n",
              "            <td>Visitors on Holiday</td>\n",
              "            <td>Q1</td>\n",
              "            <td>Actual</td>\n",
              "            <td>4</td>\n",
              "        </tr>\n",
              "    </tbody>\n",
              "</table>"
            ],
            "text/plain": [
              "[('Arrivals', '03/31/2005 12:00:00 AM', '2005', 264600, 'Visitors on Holiday', 'Q1', 'Actual', 0),\n",
              " ('Arrivals', '06/30/1991 12:00:00 AM', '1991', 149400, 'Visitors on Holiday', 'Q2', 'Actual', 1),\n",
              " ('Arrivals', '09/30/1991 12:00:00 AM', '1991', 215900, 'Visitors on Holiday', 'Q3', 'Actual', 2),\n",
              " ('Arrivals', '12/31/1991 12:00:00 AM', '1991', 158400, 'Visitors on Holiday', 'Q4', 'Actual', 3),\n",
              " ('Arrivals', '03/31/1992 12:00:00 AM', '1992', 155400, 'Visitors on Holiday', 'Q1', 'Actual', 4)]"
            ]
          },
          "metadata": {
            "tags": []
          },
          "execution_count": 57
        }
      ]
    },
    {
      "cell_type": "code",
      "metadata": {
        "id": "ayyBRzHXPrI7",
        "colab": {
          "base_uri": "https://localhost:8080/",
          "height": 94
        },
        "outputId": "be1780d8-7c0c-4e94-e774-40b2a9ef11fe"
      },
      "source": [
        "# Example 2\n",
        "# In order to convert this kind of data to this format YYYY-MM-DD HH:MM:SS, \n",
        "# we would need to use the substring function. \n",
        "# An example of how the SQL substring function works is as shown in the SQL command\n",
        "# in this cell;\n",
        "# NB: Run this cell several times as you make changes to the numerial parameters 1, 6 \n",
        "# and then observe the output after running this cell\n",
        "#\n",
        "%%sql\n",
        "SELECT substr('SQL Tutorial', 2, 7) AS ExtractString;"
      ],
      "execution_count": null,
      "outputs": [
        {
          "output_type": "stream",
          "text": [
            " * sqlite://\n",
            "Done.\n"
          ],
          "name": "stdout"
        },
        {
          "output_type": "execute_result",
          "data": {
            "text/html": [
              "<table>\n",
              "    <thead>\n",
              "        <tr>\n",
              "            <th>ExtractString</th>\n",
              "        </tr>\n",
              "    </thead>\n",
              "    <tbody>\n",
              "        <tr>\n",
              "            <td>QL Tuto</td>\n",
              "        </tr>\n",
              "    </tbody>\n",
              "</table>"
            ],
            "text/plain": [
              "[('QL Tuto',)]"
            ]
          },
          "metadata": {
            "tags": []
          },
          "execution_count": 71
        }
      ]
    },
    {
      "cell_type": "code",
      "metadata": {
        "id": "IVS-kshycRqd"
      },
      "source": [
        "# Example 3\n",
        "# Let's now select the \"Date_End_of_Quater\" data in the datetime data type format.\n",
        "# We will apply the SQL substr function to the respective column\n",
        "# then select the characters specifying our range then concatenating (combining)\n",
        "# the selected substrings.\n",
        "#  \n",
        "%%sql\n",
        "SELECT substr(\"Date_End_of_Quater\", 7, 4) \n",
        "|| \"-\" || substr(\"Date_End_of_Quater\", 4, 2) \n",
        "|| \"-\" || substr(\"Date_End_of_Quater\", 1, 2) \n",
        "|| \" \" || substr(\"Date_End_of_Quater\", 12,9)\n",
        "AS New_Date_End_of_Quarter\n",
        "FROM KenyanVisitors Limit 5;"
      ],
      "execution_count": null,
      "outputs": []
    },
    {
      "cell_type": "code",
      "metadata": {
        "id": "Nij-PotCmZQC",
        "colab": {
          "base_uri": "https://localhost:8080/"
        },
        "outputId": "a7f2db36-65fb-44b5-ae12-b06cab037b97"
      },
      "source": [
        "# Example 4\n",
        "# Once we are certain that the selected data is in the datetime data type format,\n",
        "# we can then update the table as shown; Remember we learnt how to update data \n",
        "# in our table last week? :) \n",
        "# This will allow us to start using that updated table for further investigation\n",
        "# \n",
        "%%sql\n",
        "UPDATE KenyanVisitors \n",
        "set \"Date_End_of_Quater\" = substr(\"Date_End_of_Quater\", 7, 4) \n",
        "|| \"-\" || substr(\"Date_End_of_Quater\", 4, 2) \n",
        "|| \"-\" || substr(\"Date_End_of_Quater\", 1, 2) \n",
        "|| \" \" || substr(\"Date_End_of_Quater\", 12,9)"
      ],
      "execution_count": null,
      "outputs": [
        {
          "output_type": "stream",
          "text": [
            " * sqlite://\n",
            "(sqlite3.OperationalError) near \"FROM\": syntax error\n",
            "[SQL: UPDATE KenyanVisitors \n",
            "set \"Date_End_of_Quater\" = substr(\"Date_End_of_Quater\", 7, 4) \n",
            "|| \"-\" || substr(\"Date_End_of_Quater\", 4, 2) \n",
            "|| \"-\" || substr(\"Date_End_of_Quater\", 1, 2) \n",
            "|| \" \" || substr(\"Date_End_of_Quater\", 12,9)\n",
            "FROM KenyanVisitors Limit 5;]\n",
            "(Background on this error at: http://sqlalche.me/e/14/e3q8)\n"
          ],
          "name": "stdout"
        }
      ]
    },
    {
      "cell_type": "code",
      "metadata": {
        "id": "_V5F2sd8n6Gl",
        "colab": {
          "base_uri": "https://localhost:8080/",
          "height": 174
        },
        "outputId": "1ddaf423-24e4-480a-e990-49f7eaf2d1b6"
      },
      "source": [
        "# Example 5\n",
        "# We can preview our dataset below so as to note the changes we have made to our \n",
        "# \"Date_End_of_Quater\" column which now looks super :) \n",
        "# \n",
        "%%sql\n",
        "SELECT * \n",
        "FROM KenyanVisitors Limit 5; "
      ],
      "execution_count": null,
      "outputs": [
        {
          "output_type": "stream",
          "text": [
            " * sqlite://\n",
            "Done.\n"
          ],
          "name": "stdout"
        },
        {
          "output_type": "execute_result",
          "data": {
            "text/html": [
              "<table>\n",
              "    <thead>\n",
              "        <tr>\n",
              "            <th>Arrival_or_Departure</th>\n",
              "            <th>Date_End_of_Quater</th>\n",
              "            <th>Year_Text</th>\n",
              "            <th>No_of_Visitors_to_Kenya</th>\n",
              "            <th>Visitors_by_Purpose</th>\n",
              "            <th>Period_Quater</th>\n",
              "            <th>Results_Status</th>\n",
              "            <th>OBJECTID</th>\n",
              "        </tr>\n",
              "    </thead>\n",
              "    <tbody>\n",
              "        <tr>\n",
              "            <td>Arrivals</td>\n",
              "            <td>2005-31-03 12:00:00 </td>\n",
              "            <td>2005</td>\n",
              "            <td>264600</td>\n",
              "            <td>Visitors on Holiday</td>\n",
              "            <td>Q1</td>\n",
              "            <td>Actual</td>\n",
              "            <td>0</td>\n",
              "        </tr>\n",
              "        <tr>\n",
              "            <td>Arrivals</td>\n",
              "            <td>1991-30-06 12:00:00 </td>\n",
              "            <td>1991</td>\n",
              "            <td>149400</td>\n",
              "            <td>Visitors on Holiday</td>\n",
              "            <td>Q2</td>\n",
              "            <td>Actual</td>\n",
              "            <td>1</td>\n",
              "        </tr>\n",
              "        <tr>\n",
              "            <td>Arrivals</td>\n",
              "            <td>1991-30-09 12:00:00 </td>\n",
              "            <td>1991</td>\n",
              "            <td>215900</td>\n",
              "            <td>Visitors on Holiday</td>\n",
              "            <td>Q3</td>\n",
              "            <td>Actual</td>\n",
              "            <td>2</td>\n",
              "        </tr>\n",
              "        <tr>\n",
              "            <td>Arrivals</td>\n",
              "            <td>1991-31-12 12:00:00 </td>\n",
              "            <td>1991</td>\n",
              "            <td>158400</td>\n",
              "            <td>Visitors on Holiday</td>\n",
              "            <td>Q4</td>\n",
              "            <td>Actual</td>\n",
              "            <td>3</td>\n",
              "        </tr>\n",
              "        <tr>\n",
              "            <td>Arrivals</td>\n",
              "            <td>1992-31-03 12:00:00 </td>\n",
              "            <td>1992</td>\n",
              "            <td>155400</td>\n",
              "            <td>Visitors on Holiday</td>\n",
              "            <td>Q1</td>\n",
              "            <td>Actual</td>\n",
              "            <td>4</td>\n",
              "        </tr>\n",
              "    </tbody>\n",
              "</table>"
            ],
            "text/plain": [
              "[('Arrivals', '2005-31-03 12:00:00 ', '2005', 264600, 'Visitors on Holiday', 'Q1', 'Actual', 0),\n",
              " ('Arrivals', '1991-30-06 12:00:00 ', '1991', 149400, 'Visitors on Holiday', 'Q2', 'Actual', 1),\n",
              " ('Arrivals', '1991-30-09 12:00:00 ', '1991', 215900, 'Visitors on Holiday', 'Q3', 'Actual', 2),\n",
              " ('Arrivals', '1991-31-12 12:00:00 ', '1991', 158400, 'Visitors on Holiday', 'Q4', 'Actual', 3),\n",
              " ('Arrivals', '1992-31-03 12:00:00 ', '1992', 155400, 'Visitors on Holiday', 'Q1', 'Actual', 4)]"
            ]
          },
          "metadata": {
            "tags": []
          },
          "execution_count": 75
        }
      ]
    },
    {
      "cell_type": "code",
      "metadata": {
        "id": "wGr96euaW6up",
        "colab": {
          "base_uri": "https://localhost:8080/",
          "height": 74
        },
        "outputId": "eb0443cd-6f9c-409c-8750-91df0d53b1cc"
      },
      "source": [
        "# Example 6\n",
        "# We now continue into investigating our dataset; We answer the following question;\n",
        "# Which arrivals and depatures happened before 10th June, 1991?  \n",
        "# Solution:\n",
        "#\n",
        "%%sql\n",
        "SELECT * \n",
        "FROM KenyanVisitors \n",
        "WHERE \"Date_End_of_Quater\" < '1991-10-06';"
      ],
      "execution_count": null,
      "outputs": [
        {
          "output_type": "stream",
          "text": [
            " * sqlite://\n",
            "Done.\n"
          ],
          "name": "stdout"
        },
        {
          "output_type": "execute_result",
          "data": {
            "text/html": [
              "<table>\n",
              "    <thead>\n",
              "        <tr>\n",
              "            <th>Arrival_or_Departure</th>\n",
              "            <th>Date_End_of_Quater</th>\n",
              "            <th>Year_Text</th>\n",
              "            <th>No_of_Visitors_to_Kenya</th>\n",
              "            <th>Visitors_by_Purpose</th>\n",
              "            <th>Period_Quater</th>\n",
              "            <th>Results_Status</th>\n",
              "            <th>OBJECTID</th>\n",
              "        </tr>\n",
              "    </thead>\n",
              "    <tbody>\n",
              "    </tbody>\n",
              "</table>"
            ],
            "text/plain": [
              "[]"
            ]
          },
          "metadata": {
            "tags": []
          },
          "execution_count": 79
        }
      ]
    },
    {
      "cell_type": "code",
      "metadata": {
        "id": "wz4km85zcRiD"
      },
      "source": [
        "# Example 7\n",
        "# Which arrivals and depatures happened after 30th June 2000?  \n",
        "#\n",
        "%%sql\n",
        "SELECT * FROM KenyanVisitors\n",
        "WHERE \"Date_End_of_Quater\" > \"2000-30-06\""
      ],
      "execution_count": null,
      "outputs": []
    },
    {
      "cell_type": "markdown",
      "metadata": {
        "id": "VIT5Iy-kcSMl"
      },
      "source": [
        "### <font color=\"green\">1.4 Challenges</font>"
      ]
    },
    {
      "cell_type": "code",
      "metadata": {
        "id": "BRWaaWEUcRal",
        "colab": {
          "base_uri": "https://localhost:8080/",
          "height": 134
        },
        "outputId": "8a806d36-d0ad-48f6-f618-2bb918f4e487"
      },
      "source": [
        "# Challenge\n",
        "# Using the tea_production dataset, which three dates had tea production \n",
        "# before the date with the most tea production?\n",
        "#\n",
        "%%sql\n",
        "SELECT OBJECTID, Date FROM TeaProduction\n",
        "WHERE Date < 2014-07-25 \n",
        "ORDER BY \"Millions_in_KGS_\" ASC LIMIT 3;\n"
      ],
      "execution_count": null,
      "outputs": [
        {
          "output_type": "stream",
          "text": [
            " * sqlite://\n",
            "Done.\n"
          ],
          "name": "stdout"
        },
        {
          "output_type": "execute_result",
          "data": {
            "text/html": [
              "<table>\n",
              "    <thead>\n",
              "        <tr>\n",
              "            <th>OBJECTID</th>\n",
              "            <th>Date</th>\n",
              "        </tr>\n",
              "    </thead>\n",
              "    <tbody>\n",
              "        <tr>\n",
              "            <td>400</td>\n",
              "            <td>12/25/2015 12:00:00 AM</td>\n",
              "        </tr>\n",
              "        <tr>\n",
              "            <td>406</td>\n",
              "            <td>12/25/2015 12:00:00 AM</td>\n",
              "        </tr>\n",
              "        <tr>\n",
              "            <td>300</td>\n",
              "            <td>01/25/2008 12:00:00 AM</td>\n",
              "        </tr>\n",
              "    </tbody>\n",
              "</table>"
            ],
            "text/plain": [
              "[(400, '12/25/2015 12:00:00 AM'),\n",
              " (406, '12/25/2015 12:00:00 AM'),\n",
              " (300, '01/25/2008 12:00:00 AM')]"
            ]
          },
          "metadata": {
            "tags": []
          },
          "execution_count": 82
        }
      ]
    }
  ]
}