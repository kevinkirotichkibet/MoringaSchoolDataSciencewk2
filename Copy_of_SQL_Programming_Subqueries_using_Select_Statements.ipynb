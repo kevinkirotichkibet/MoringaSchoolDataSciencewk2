{
  "nbformat": 4,
  "nbformat_minor": 0,
  "metadata": {
    "colab": {
      "name": "Copy of SQL Programming -  Subqueries using Select Statements",
      "provenance": [],
      "collapsed_sections": [],
      "toc_visible": true,
      "include_colab_link": true
    },
    "kernelspec": {
      "name": "python3",
      "display_name": "Python 3"
    }
  },
  "cells": [
    {
      "cell_type": "markdown",
      "metadata": {
        "id": "view-in-github",
        "colab_type": "text"
      },
      "source": [
        "<a href=\"https://colab.research.google.com/github/kevinkirotichkibet/MoringaSchoolDataSciencewk2/blob/main/Copy_of_SQL_Programming_Subqueries_using_Select_Statements.ipynb\" target=\"_parent\"><img src=\"https://colab.research.google.com/assets/colab-badge.svg\" alt=\"Open In Colab\"/></a>"
      ]
    },
    {
      "cell_type": "markdown",
      "metadata": {
        "id": "v7SpgjvSlIoR"
      },
      "source": [
        "<font color=\"green\">*To start working on this notebook, or any other notebook that we will use in the Moringa Data Science Course, we will need to save our own copy of it. We can do this by clicking File > Save a Copy in Drive. We will then be able to make edits to our own copy of this notebook.*</font>"
      ]
    },
    {
      "cell_type": "markdown",
      "metadata": {
        "id": "LtFx0bBdlL-n"
      },
      "source": [
        "# SQL Programming - Subqueries using Select Statements"
      ]
    },
    {
      "cell_type": "markdown",
      "metadata": {
        "id": "mlCS9-zslSwf"
      },
      "source": [
        "## 1.0 Connecting to our Database"
      ]
    },
    {
      "cell_type": "code",
      "metadata": {
        "id": "cEeocMxvnZwS",
        "colab": {
          "base_uri": "https://localhost:8080/",
          "height": 71
        },
        "outputId": "47e6cbde-2726-4a9e-ebb9-5dbddd23783a"
      },
      "source": [
        "# We will first load the sql extension into our environment\n",
        "%load_ext sql\n",
        "\n",
        "# Then connect to our in memory sqlite database\n",
        "# NB: This database will cease to exist as soon as the database connection is closed. \n",
        "%sql sqlite://"
      ],
      "execution_count": 6,
      "outputs": [
        {
          "output_type": "stream",
          "text": [
            "The sql extension is already loaded. To reload it, use:\n",
            "  %reload_ext sql\n"
          ],
          "name": "stdout"
        },
        {
          "output_type": "execute_result",
          "data": {
            "application/vnd.google.colaboratory.intrinsic+json": {
              "type": "string"
            },
            "text/plain": [
              "'Connected: @None'"
            ]
          },
          "metadata": {
            "tags": []
          },
          "execution_count": 6
        }
      ]
    },
    {
      "cell_type": "markdown",
      "metadata": {
        "id": "lLI1zQYqlVlt"
      },
      "source": [
        "## 1.1 Loading Data from CSV Files"
      ]
    },
    {
      "cell_type": "markdown",
      "metadata": {
        "id": "tNUsWoeTWn_f"
      },
      "source": [
        "Datasets used in this notebook:\n",
        "\n",
        "\n",
        "1.   **World Countries**\n",
        "\n",
        "> ([Dataset Download Link](https://drive.google.com/a/moringaschool.com/file/d/1XlabneVWhvbmpRUi_Wix2FR5uYAAp-ZY/view?usp=sharing))\n",
        "\n",
        "2.   **World Cities** \n",
        "\n",
        "> ([Dataset Download Link](https://drive.google.com/a/moringaschool.com/file/d/1R5952m-8hH91uiwDK8dcL9sT2D_PEcuw/view?usp=sharing))\n",
        "\n",
        "\n",
        "\n",
        "\n"
      ]
    },
    {
      "cell_type": "code",
      "metadata": {
        "id": "jryiwN6GiqoT"
      },
      "source": [
        "# Importing Pandas\n",
        "import pandas as pd"
      ],
      "execution_count": 5,
      "outputs": []
    },
    {
      "cell_type": "code",
      "metadata": {
        "id": "gnuy0grfirgn",
        "colab": {
          "base_uri": "https://localhost:8080/",
          "height": 192
        },
        "outputId": "e6d1b427-fbb7-490f-ffcd-7692b2d21640"
      },
      "source": [
        "# Loading our Countries dataset\n",
        "# \n",
        "with open('world_countries.csv','r') as f:\n",
        "    Countries = pd.read_csv(f, index_col=0, encoding='utf-8')\n",
        "#%sql DROP TABLE if EXISTS Countries;\n",
        "%sql PERSIST Countries;\n",
        "%sql SELECT * FROM Countries LIMIT 5;"
      ],
      "execution_count": 4,
      "outputs": [
        {
          "output_type": "stream",
          "text": [
            " * sqlite://\n",
            " * sqlite://\n",
            "Done.\n"
          ],
          "name": "stdout"
        },
        {
          "output_type": "execute_result",
          "data": {
            "text/html": [
              "<table>\n",
              "    <thead>\n",
              "        <tr>\n",
              "            <th>country</th>\n",
              "            <th>population</th>\n",
              "            <th>EU</th>\n",
              "            <th>coastline</th>\n",
              "        </tr>\n",
              "    </thead>\n",
              "    <tbody>\n",
              "        <tr>\n",
              "            <td>Albania</td>\n",
              "            <td>2.9</td>\n",
              "            <td>no</td>\n",
              "            <td>yes</td>\n",
              "        </tr>\n",
              "        <tr>\n",
              "            <td>Andorra</td>\n",
              "            <td>0.07</td>\n",
              "            <td>no</td>\n",
              "            <td>no</td>\n",
              "        </tr>\n",
              "        <tr>\n",
              "            <td>Austria</td>\n",
              "            <td>8.57</td>\n",
              "            <td>yes</td>\n",
              "            <td>no</td>\n",
              "        </tr>\n",
              "        <tr>\n",
              "            <td>Belarus</td>\n",
              "            <td>9.48</td>\n",
              "            <td>no</td>\n",
              "            <td>no</td>\n",
              "        </tr>\n",
              "        <tr>\n",
              "            <td>Belgium</td>\n",
              "            <td>11.37</td>\n",
              "            <td>yes</td>\n",
              "            <td>yes</td>\n",
              "        </tr>\n",
              "    </tbody>\n",
              "</table>"
            ],
            "text/plain": [
              "[('Albania', 2.9, 'no', 'yes'),\n",
              " ('Andorra', 0.07, 'no', 'no'),\n",
              " ('Austria', 8.57, 'yes', 'no'),\n",
              " ('Belarus', 9.48, 'no', 'no'),\n",
              " ('Belgium', 11.37, 'yes', 'yes')]"
            ]
          },
          "metadata": {
            "tags": []
          },
          "execution_count": 4
        }
      ]
    },
    {
      "cell_type": "code",
      "metadata": {
        "id": "Nl8AVi1OyUmm"
      },
      "source": [
        "# Loading our cities dataset \n",
        "# \n",
        "with open('world_cities.csv','r') as f:\n",
        "    Cities = pd.read_csv(f, index_col=0, encoding='utf-8')\n",
        "#%sql DROP TABLE if EXISTS Cities;\n",
        "%sql PERSIST Cities;\n",
        "%sql SELECT * FROM Cities LIMIT 5;"
      ],
      "execution_count": null,
      "outputs": []
    },
    {
      "cell_type": "markdown",
      "metadata": {
        "id": "LEAwY5fwleiu"
      },
      "source": [
        "## 1.2 Subqueries using the SELECT statement"
      ]
    },
    {
      "cell_type": "markdown",
      "metadata": {
        "id": "xgcGBkvuA3V0"
      },
      "source": [
        "A subquery is a query within another query. The outer query is called as main query and inner query is called as subquery. The subquery must be enclosed with parenthesis and generally executes first, and its output is used to complete the query condition for the main or outer query. We will go through examples of how subqueries can be used to answers different types of questions then later, we will use our learnings to work on the challenges."
      ]
    },
    {
      "cell_type": "code",
      "metadata": {
        "id": "--LbGFNOnbTx"
      },
      "source": [
        "# Example 1\n",
        "# Subqueries can occur in the select list of the containing query\n",
        "# as shown below;\n",
        "# Let's find all countries in the Countries table with no city in the Cities table\n",
        "# \n",
        "%%sql\n",
        "SELECT country\n",
        "FROM Countries\n",
        "WHERE NOT EXISTS (SELECT * FROM Cities\n",
        "                  WHERE Cities.country = Countries.country) \n"
      ],
      "execution_count": null,
      "outputs": []
    },
    {
      "cell_type": "code",
      "metadata": {
        "id": "8XqiW-Q8ndKT"
      },
      "source": [
        "# Example 2\n",
        "# Find the European countries with cities experiencing temperature > 20?\n",
        "# \n",
        "%%sql\n",
        "SELECT country\n",
        "FROM Countries\n",
        "WHERE EU = 'yes'\n",
        "AND EXISTS (SELECT * FROM Cities\n",
        "            WHERE Cities.country = Countries.country\n",
        "            AND temperature > 15)"
      ],
      "execution_count": null,
      "outputs": []
    },
    {
      "cell_type": "code",
      "metadata": {
        "id": "ocuJ_kB4nd3z"
      },
      "source": [
        "# Example 3: Method 1\n",
        "# Find the westernmost city, returning the city and longitude\n",
        "# \n",
        "%%sql\n",
        "SELECT city, longitude\n",
        "FROM Cities C1\n",
        "WHERE NOT EXISTS (SELECT * FROM Cities C2\n",
        "                  WHERE C2.longitude < C1.longitude)"
      ],
      "execution_count": null,
      "outputs": []
    },
    {
      "cell_type": "code",
      "metadata": {
        "id": "MQCaPcMQ5pDl"
      },
      "source": [
        "# Example 3: Method 2\n",
        "# Find the westernmost city, returning the city and longitude\n",
        "# \n",
        "%%sql\n",
        "SELECT city, longitude\n",
        "FROM Cities\n",
        "WHERE longitude = (SELECT min(longitude) FROM Cities)"
      ],
      "execution_count": null,
      "outputs": []
    },
    {
      "cell_type": "code",
      "metadata": {
        "id": "KL5VFl2x7kLZ"
      },
      "source": [
        "# Example 4:\n",
        "# How many cities are in the EU?\n",
        "# \n",
        "%%sql\n",
        "SELECT count()\n",
        "FROM Cities\n",
        "WHERE country IN (SELECT country FROM Countries WHERE EU = 'yes')"
      ],
      "execution_count": null,
      "outputs": []
    },
    {
      "cell_type": "markdown",
      "metadata": {
        "id": "d1czA9cCnfki"
      },
      "source": [
        "### <font color=\"green\">1.2 Challenges</font>"
      ]
    },
    {
      "cell_type": "code",
      "metadata": {
        "id": "BpOpH-fznpo2",
        "colab": {
          "base_uri": "https://localhost:8080/",
          "height": 94
        },
        "outputId": "9575b458-9ea0-43a1-f797-e5a34d8c2613"
      },
      "source": [
        "# Challenge 1\n",
        "# Find number of countries that have a city with latitude > 1000 (start with country list)\n",
        "# \n",
        "%%sql\n",
        "SELECT count(country)\n",
        "FROM Countries\n",
        "WHERE country IN (SELECT city FROM Cities\n",
        "            WHERE Countries.country = Cities.country\n",
        "            AND \"latitude\" > 1000);"
      ],
      "execution_count": 13,
      "outputs": [
        {
          "output_type": "stream",
          "text": [
            " * sqlite://\n",
            "Done.\n"
          ],
          "name": "stdout"
        },
        {
          "output_type": "execute_result",
          "data": {
            "text/html": [
              "<table>\n",
              "    <thead>\n",
              "        <tr>\n",
              "            <th>count(country)</th>\n",
              "        </tr>\n",
              "    </thead>\n",
              "    <tbody>\n",
              "        <tr>\n",
              "            <td>0</td>\n",
              "        </tr>\n",
              "    </tbody>\n",
              "</table>"
            ],
            "text/plain": [
              "[(0,)]"
            ]
          },
          "metadata": {
            "tags": []
          },
          "execution_count": 13
        }
      ]
    },
    {
      "cell_type": "code",
      "metadata": {
        "id": "jIhUfWXlnrcK"
      },
      "source": [
        "# Challenge 2\n",
        "# Find three western most cities returning both the cities and their longitude\n",
        "#\n",
        "%%sql\n",
        "SELECT city, longitude\n",
        "FROM Cities\n",
        "ORDER  by longitude ASC\n",
        "LIMIT 3;"
      ],
      "execution_count": null,
      "outputs": []
    },
    {
      "cell_type": "code",
      "metadata": {
        "id": "o0ACgdPAnvrF"
      },
      "source": [
        "# Challenge 3\n",
        "# Find cities with temperature is more than 50% higher than the average; \n",
        "# We will return the city, country, and temperature, ordered by descending temperature\n",
        "# Hint: avg(temperature) * 1.5\n",
        "# \n",
        "%%sql\n",
        "SELECT city, country, temperature\n",
        "FROM Cities\n",
        "WHERE temperature > (SELECT AVG(temperature) *1.5 FROM Cities)\n",
        "ORDER  by temperature DESC;"
      ],
      "execution_count": null,
      "outputs": []
    },
    {
      "cell_type": "code",
      "metadata": {
        "id": "fmUqjv6F6lQ0"
      },
      "source": [
        "# Challenge 4\n",
        "# How many cities are not in the EU and without a coastline?\n",
        "# Hint: \"not in\"\n",
        "# \n",
        "%%sql\n",
        "SELECT count()\n",
        "FROM Cities\n",
        "WHERE country IN (SELECT country FROM Countries\n",
        "                 WHERE EU = \"no\" AND coastline = \"no\" );"
      ],
      "execution_count": null,
      "outputs": []
    },
    {
      "cell_type": "code",
      "metadata": {
        "id": "x14dNNSB8X9_"
      },
      "source": [
        "# Challenge 5\n",
        "# Find the number of countries with no coastline and a city with longitude < 10\n",
        "# \n",
        "%%sql\n",
        "SELECT count()\n",
        "FROM Countries\n",
        "WHERE coastline = \"no\"\n",
        "AND EXISTS (SELECT * FROM Cities\n",
        "            WHERE Countries.country = Cities.country\n",
        "            AND longitude < 10);"
      ],
      "execution_count": null,
      "outputs": []
    },
    {
      "cell_type": "code",
      "metadata": {
        "id": "Z_AeMRdD82F8"
      },
      "source": [
        "# Challenge 6\n",
        "# Find countries in Countries table with no city in Cities table\n",
        "# \n",
        "#COMPLETE THE CODE BELOW\n",
        "\n",
        "%%sql\n",
        "SELECT country\n",
        "FROM Countries\n",
        "WHERE NOT EXISTS (SELECT * FROM Cities\n",
        "                  WHERE Countries.country = Cities.country)"
      ],
      "execution_count": null,
      "outputs": []
    },
    {
      "cell_type": "code",
      "metadata": {
        "id": "4dW5nRzi9atc"
      },
      "source": [
        "# Challenge 7\n",
        "# Find all cities in a country whose population is < 2, returning the city and country.\n",
        "# \n",
        "%%sql\n",
        "SELECT city, country\n",
        "FROM Cities\n",
        "WHERE country IN (SELECT country FROM Countries\n",
        "              WHERE Cities.country = Countries.country\n",
        "              AND population < 2);"
      ],
      "execution_count": null,
      "outputs": []
    },
    {
      "cell_type": "code",
      "metadata": {
        "id": "rZCO_07d9n9G"
      },
      "source": [
        "# Challenge 8\n",
        "# Find all countries with no city having a temperature > 6\n",
        "# \n",
        "%%sql\n",
        "SELECT country\n",
        "FROM Countries\n",
        "WHERE NOT EXISTS (SELECT * FROM Cities\n",
        "            WHERE Countries.country = Cities.country\n",
        "            AND temperature > 6);"
      ],
      "execution_count": null,
      "outputs": []
    }
  ]
}